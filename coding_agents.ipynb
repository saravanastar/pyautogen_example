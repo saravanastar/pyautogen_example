{
 "cells": [
  {
   "cell_type": "code",
   "execution_count": 8,
   "id": "9d732120-af04-4440-9d0e-af10e75f6727",
   "metadata": {},
   "outputs": [
    {
     "data": {
      "text/plain": [
       "True"
      ]
     },
     "execution_count": 8,
     "metadata": {},
     "output_type": "execute_result"
    }
   ],
   "source": [
    "from autogen import AssistantAgent, ConversableAgent\n",
    "from autogen.coding import LocalCommandLineCodeExecutor\n",
    "from dotenv import load_dotenv\n",
    "import os\n",
    "\n",
    "load_dotenv()"
   ]
  },
  {
   "cell_type": "markdown",
   "id": "7e97b9a7-fb79-48d9-b200-f488fbaa5fb8",
   "metadata": {},
   "source": [
    "## Configure Model"
   ]
  },
  {
   "cell_type": "code",
   "execution_count": 9,
   "id": "705629b0-0f5e-42ec-8bbc-09c0154e0f87",
   "metadata": {},
   "outputs": [],
   "source": [
    "config_list = [\n",
    "  {\n",
    "                \"model\": \"gpt-4o-mini\",\n",
    "                \"api_key\": os.getenv(\"OPENAI_API_KEY\")\n",
    "  }\n",
    "]"
   ]
  },
  {
   "cell_type": "code",
   "execution_count": 10,
   "id": "bf0077b7-ef8d-4425-bec8-0ed643b22ef6",
   "metadata": {},
   "outputs": [],
   "source": [
    "executor = LocalCommandLineCodeExecutor(\n",
    "    timeout=10,\n",
    "    work_dir=\"coding\"\n",
    ")"
   ]
  },
  {
   "cell_type": "code",
   "execution_count": 11,
   "id": "999ab73a-92a4-4361-b42a-53f48ee19621",
   "metadata": {},
   "outputs": [],
   "source": [
    "# agent with code executor config\n",
    "code_executor_agent = ConversableAgent(\n",
    "    name=\"code_executor_agent\",\n",
    "    llm_config=False,\n",
    "    code_execution_config={\"executor\": executor},\n",
    "    human_input_mode=\"ALWAYS\",\n",
    "    default_auto_reply=\n",
    "    \"Please continue. If everything is done, reply 'TERMINATE'.\",\n",
    ")"
   ]
  },
  {
   "cell_type": "code",
   "execution_count": 12,
   "id": "39a044e6-299c-43ec-aee2-22fb30e883ed",
   "metadata": {},
   "outputs": [],
   "source": [
    "code_writer_agent = AssistantAgent(\n",
    "    name=\"code_writer_agent\",\n",
    "    llm_config={\"config_list\": config_list},\n",
    "     code_execution_config=False,\n",
    "    human_input_mode=\"NEVER\",\n",
    ")"
   ]
  },
  {
   "cell_type": "code",
   "execution_count": 13,
   "id": "140c6d20-8753-4b36-9139-92c432bb9050",
   "metadata": {},
   "outputs": [],
   "source": [
    "code_writer_agent_system_message = code_writer_agent.system_message"
   ]
  },
  {
   "cell_type": "code",
   "execution_count": 14,
   "id": "782419c8-c23c-4fd3-9c3e-becd67a3ccec",
   "metadata": {},
   "outputs": [
    {
     "data": {
      "text/plain": [
       "'You are a helpful AI assistant.\\nSolve tasks using your coding and language skills.\\nIn the following cases, suggest python code (in a python coding block) or shell script (in a sh coding block) for the user to execute.\\n    1. When you need to collect info, use the code to output the info you need, for example, browse or search the web, download/read a file, print the content of a webpage or a file, get the current date/time, check the operating system. After sufficient info is printed and the task is ready to be solved based on your language skill, you can solve the task by yourself.\\n    2. When you need to perform some task with code, use the code to perform the task and output the result. Finish the task smartly.\\nSolve the task step by step if you need to. If a plan is not provided, explain your plan first. Be clear which step uses code, and which step uses your language skill.\\nWhen using code, you must indicate the script type in the code block. The user cannot provide any other feedback or perform any other action beyond executing the code you suggest. The user can\\'t modify your code. So do not suggest incomplete code which requires users to modify. Don\\'t use a code block if it\\'s not intended to be executed by the user.\\nIf you want the user to save the code in a file before executing it, put # filename: <filename> inside the code block as the first line. Don\\'t include multiple code blocks in one response. Do not ask users to copy and paste the result. Instead, use \\'print\\' function for the output when relevant. Check the execution result returned by the user.\\nIf the result indicates there is an error, fix the error and output the code again. Suggest the full code instead of partial code or code changes. If the error can\\'t be fixed or if the task is not solved even after the code is executed successfully, analyze the problem, revisit your assumption, collect additional info you need, and think of a different approach to try.\\nWhen you find an answer, verify the answer carefully. Include verifiable evidence in your response if possible.\\nReply \"TERMINATE\" in the end when everything is done.\\n    '"
      ]
     },
     "execution_count": 14,
     "metadata": {},
     "output_type": "execute_result"
    }
   ],
   "source": [
    "code_writer_agent_system_message\n"
   ]
  },
  {
   "cell_type": "code",
   "execution_count": 15,
   "id": "443f3b5f-509c-4814-acb3-174600c2277f",
   "metadata": {},
   "outputs": [],
   "source": [
    "from datetime import date\n",
    "\n",
    "current_date = date.today()\n",
    "\n",
    "instruction = f\"\"\"\n",
    "As of {current_date}, please generate a graph displaying the year-to-date (YTD) stock performance for NVIDIA (NVDA) and Tesla (TSLA). \n",
    "\n",
    "Ensure that you:\n",
    "1. Write the necessary code within a markdown code block\n",
    "2. Save the resulting graph as an image file named 'ytd_stock_gains.png'\n",
    "\"\"\""
   ]
  },
  {
   "cell_type": "code",
   "execution_count": null,
   "id": "602dbb16-8247-4a05-9a61-1a837f928558",
   "metadata": {},
   "outputs": [
    {
     "name": "stdout",
     "output_type": "stream",
     "text": [
      "\u001b[33mcode_executor_agent\u001b[0m (to code_writer_agent):\n",
      "\n",
      "\n",
      "As of 2025-01-07, please generate a graph displaying the year-to-date (YTD) stock performance for NVIDIA (NVDA) and Tesla (TSLA). \n",
      "\n",
      "Ensure that you:\n",
      "1. Write the necessary code within a markdown code block\n",
      "2. Save the resulting graph as an image file named 'ytd_stock_gains.png'\n",
      "\n",
      "\n",
      "--------------------------------------------------------------------------------\n",
      "\u001b[33mcode_writer_agent\u001b[0m (to code_executor_agent):\n",
      "\n",
      "To generate a graph displaying the year-to-date stock performance for NVIDIA (NVDA) and Tesla (TSLA) as of January 7, 2025, we need to follow these steps:\n",
      "\n",
      "1. Use the `yfinance` library to download stock price data for NVDA and TSLA.\n",
      "2. Calculate the year-to-date performance for both stocks.\n",
      "3. Plot the performance on a graph using `matplotlib`.\n",
      "4. Save the resulting graph as an image file named 'ytd_stock_gains.png'.\n",
      "\n",
      "Here’s the complete code to achieve that:\n",
      "\n",
      "```python\n",
      "# filename: ytd_stock_performance.py\n",
      "import yfinance as yf\n",
      "import matplotlib.pyplot as plt\n",
      "import datetime\n",
      "\n",
      "# Define the stock symbols and the date range\n",
      "stocks = ['NVDA', 'TSLA']\n",
      "start_date = '2025-01-01'\n",
      "end_date = '2025-01-07'\n",
      "\n",
      "# Download stock data\n",
      "data = yf.download(stocks, start=start_date, end=end_date)\n",
      "\n",
      "# Calculate the year-to-date performance\n",
      "ytd_performance = ((data['Adj Close'].iloc[-1] - data['Adj Close'].iloc[0]) / data['Adj Close'].iloc[0]) * 100\n",
      "\n",
      "# Create a bar graph for YTD performance\n",
      "plt.figure(figsize=(10, 5))\n",
      "ytd_performance.plot(kind='bar', color=['green', 'blue'])\n",
      "plt.title('Year-to-Date Stock Performance (as of 2025-01-07)')\n",
      "plt.ylabel('Performance (%)')\n",
      "plt.xticks(range(len(stocks)), stocks, rotation=0)\n",
      "plt.grid(axis='y')\n",
      "\n",
      "# Save the graph as a PNG file\n",
      "plt.savefig('ytd_stock_gains.png')\n",
      "plt.close()\n",
      "```\n",
      "\n",
      "Please execute this code to generate the graph and save it as 'ytd_stock_gains.png'.\n",
      "\n",
      "--------------------------------------------------------------------------------\n"
     ]
    }
   ],
   "source": [
    "## initiate the chat\n",
    "chat_result = code_executor_agent.initiate_chat(\n",
    "    code_writer_agent,\n",
    "    message=instruction,\n",
    ")"
   ]
  },
  {
   "cell_type": "code",
   "execution_count": null,
   "id": "b8aab94c-8228-4a08-8427-514c4e81ebdb",
   "metadata": {},
   "outputs": [],
   "source": [
    "import os\n",
    "from IPython.display import Image\n",
    "\n",
    "Image(os.path.join(\"coding\", \"ytd_stock_gains.png\"))"
   ]
  },
  {
   "cell_type": "code",
   "execution_count": null,
   "id": "0d06cbc8-d835-48a1-80e4-5975d1f783a3",
   "metadata": {},
   "outputs": [],
   "source": []
  }
 ],
 "metadata": {
  "kernelspec": {
   "display_name": "Python 3 (ipykernel)",
   "language": "python",
   "name": "python3"
  },
  "language_info": {
   "codemirror_mode": {
    "name": "ipython",
    "version": 3
   },
   "file_extension": ".py",
   "mimetype": "text/x-python",
   "name": "python",
   "nbconvert_exporter": "python",
   "pygments_lexer": "ipython3",
   "version": "3.12.0"
  }
 },
 "nbformat": 4,
 "nbformat_minor": 5
}
